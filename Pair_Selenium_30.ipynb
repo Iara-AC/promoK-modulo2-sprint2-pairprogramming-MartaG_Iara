{
 "cells": [
  {
   "cell_type": "code",
   "execution_count": 1,
   "metadata": {},
   "outputs": [],
   "source": [
    "# Importar librerías para tratamiento de datos\n",
    "# -----------------------------------------------------------------------\n",
    "import pandas as pd  # Pandas es una poderosa librería para manipulación y análisis de datos en Python.\n",
    "\n",
    "# Importar librerías para web scraping y manipulación de datos\n",
    "# -----------------------------------------------------------------------\n",
    "from bs4 import BeautifulSoup\n",
    "import requests\n",
    "\n",
    "# Importar librerías para automatización de navegadores web con Selenium\n",
    "# -----------------------------------------------------------------------\n",
    "from selenium import webdriver  # Selenium es una herramienta para automatizar la interacción con navegadores web.\n",
    "from webdriver_manager.chrome import ChromeDriverManager  # ChromeDriverManager gestiona la instalación del controlador de Chrome.\n",
    "from selenium.webdriver.common.keys import Keys  # Keys es útil para simular eventos de teclado en Selenium.\n",
    "from selenium.webdriver.support.ui import Select  # Select se utiliza para interactuar con elementos <select> en páginas web.\n",
    "\n",
    "# Importar librerías para pausar la ejecución\n",
    "# -----------------------------------------------------------------------\n",
    "from time import sleep  # Sleep se utiliza para pausar la ejecución del programa por un número de segundos.\n",
    "\n",
    "# Configuraciones\n",
    "# -----------------------------------------------------------------------\n",
    "pd.set_option('display.max_columns', None)  # Establece una opción de Pandas para mostrar todas las columnas de un DataFrame.\n"
   ]
  },
  {
   "cell_type": "code",
   "execution_count": 15,
   "metadata": {},
   "outputs": [
    {
     "name": "stdout",
     "output_type": "stream",
     "text": [
      "hago click en producto 1\n"
     ]
    },
    {
     "ename": "NoSuchElementException",
     "evalue": "Message: no such element: Unable to locate element: {\"method\":\"css selector\",\"selector\":\"App > div.cma-components.container.d-grid.svelte-f3gp65 > cma-component:nth-child(1) > div > area-2 > h1 > span.titleProducto.mt-2\"}\n  (Session info: chrome=130.0.6723.71); For documentation on this error, please visit: https://www.selenium.dev/documentation/webdriver/troubleshooting/errors#no-such-element-exception\nStacktrace:\n0   chromedriver                        0x0000000104cef648 cxxbridge1$str$ptr + 3645404\n1   chromedriver                        0x0000000104ce7ea8 cxxbridge1$str$ptr + 3614780\n2   chromedriver                        0x0000000104754104 cxxbridge1$string$len + 88416\n3   chromedriver                        0x0000000104796364 cxxbridge1$string$len + 359360\n4   chromedriver                        0x00000001047cfbd0 cxxbridge1$string$len + 594988\n5   chromedriver                        0x000000010478af54 cxxbridge1$string$len + 313264\n6   chromedriver                        0x000000010478bba4 cxxbridge1$string$len + 316416\n7   chromedriver                        0x0000000104cba1e8 cxxbridge1$str$ptr + 3427196\n8   chromedriver                        0x0000000104cbd52c cxxbridge1$str$ptr + 3440320\n9   chromedriver                        0x0000000104ca160c cxxbridge1$str$ptr + 3325856\n10  chromedriver                        0x0000000104cbddf0 cxxbridge1$str$ptr + 3442564\n11  chromedriver                        0x0000000104c92890 cxxbridge1$str$ptr + 3265060\n12  chromedriver                        0x0000000104cd8898 cxxbridge1$str$ptr + 3551788\n13  chromedriver                        0x0000000104cd8a14 cxxbridge1$str$ptr + 3552168\n14  chromedriver                        0x0000000104ce7b40 cxxbridge1$str$ptr + 3613908\n15  libsystem_pthread.dylib             0x0000000183cdb2e4 _pthread_start + 136\n16  libsystem_pthread.dylib             0x0000000183cd60fc thread_start + 8\n",
     "output_type": "error",
     "traceback": [
      "\u001b[0;31m---------------------------------------------------------------------------\u001b[0m",
      "\u001b[0;31mNoSuchElementException\u001b[0m                    Traceback (most recent call last)",
      "Cell \u001b[0;32mIn[15], line 27\u001b[0m\n\u001b[1;32m     23\u001b[0m \u001b[38;5;28mprint\u001b[39m(\u001b[38;5;124mf\u001b[39m\u001b[38;5;124m\"\u001b[39m\u001b[38;5;124mhago click en producto \u001b[39m\u001b[38;5;132;01m{\u001b[39;00mi\u001b[38;5;132;01m}\u001b[39;00m\u001b[38;5;124m\"\u001b[39m)\n\u001b[1;32m     25\u001b[0m driver\u001b[38;5;241m.\u001b[39mfind_element(\u001b[38;5;124m\"\u001b[39m\u001b[38;5;124mcss selector\u001b[39m\u001b[38;5;124m\"\u001b[39m, \u001b[38;5;124mf\u001b[39m\u001b[38;5;124m\"\u001b[39m\u001b[38;5;124m#App > div.cma-components.container.d-grid.svelte-f3gp65 > cma-component:nth-child(2) > div > div > div.roller.svelte-uz7p48 > div:nth-child(\u001b[39m\u001b[38;5;132;01m{\u001b[39;00mi\u001b[38;5;132;01m}\u001b[39;00m\u001b[38;5;124m) > a > div > cdl-img > img\u001b[39m\u001b[38;5;124m\"\u001b[39m)\u001b[38;5;241m.\u001b[39mclick()\n\u001b[0;32m---> 27\u001b[0m nombre \u001b[38;5;241m=\u001b[39m driver\u001b[38;5;241m.\u001b[39mfind_element(\u001b[38;5;124m\"\u001b[39m\u001b[38;5;124mcss selector\u001b[39m\u001b[38;5;124m\"\u001b[39m,\u001b[38;5;124m\"\u001b[39m\u001b[38;5;124mApp > div.cma-components.container.d-grid.svelte-f3gp65 > cma-component:nth-child(1) > div > area-2 > h1 > span.titleProducto.mt-2\u001b[39m\u001b[38;5;124m\"\u001b[39m)\u001b[38;5;241m.\u001b[39mtext\n\u001b[1;32m     30\u001b[0m dicc_libros[\u001b[38;5;124m\"\u001b[39m\u001b[38;5;124mtitulo libro\u001b[39m\u001b[38;5;124m\"\u001b[39m]\u001b[38;5;241m.\u001b[39mappend(nombre)\n\u001b[1;32m     33\u001b[0m sleep(\u001b[38;5;241m2\u001b[39m)\n",
      "File \u001b[0;32m/opt/anaconda3/lib/python3.11/site-packages/selenium/webdriver/remote/webdriver.py:748\u001b[0m, in \u001b[0;36mWebDriver.find_element\u001b[0;34m(self, by, value)\u001b[0m\n\u001b[1;32m    745\u001b[0m     by \u001b[38;5;241m=\u001b[39m By\u001b[38;5;241m.\u001b[39mCSS_SELECTOR\n\u001b[1;32m    746\u001b[0m     value \u001b[38;5;241m=\u001b[39m \u001b[38;5;124mf\u001b[39m\u001b[38;5;124m'\u001b[39m\u001b[38;5;124m[name=\u001b[39m\u001b[38;5;124m\"\u001b[39m\u001b[38;5;132;01m{\u001b[39;00mvalue\u001b[38;5;132;01m}\u001b[39;00m\u001b[38;5;124m\"\u001b[39m\u001b[38;5;124m]\u001b[39m\u001b[38;5;124m'\u001b[39m\n\u001b[0;32m--> 748\u001b[0m \u001b[38;5;28;01mreturn\u001b[39;00m \u001b[38;5;28mself\u001b[39m\u001b[38;5;241m.\u001b[39mexecute(Command\u001b[38;5;241m.\u001b[39mFIND_ELEMENT, {\u001b[38;5;124m\"\u001b[39m\u001b[38;5;124musing\u001b[39m\u001b[38;5;124m\"\u001b[39m: by, \u001b[38;5;124m\"\u001b[39m\u001b[38;5;124mvalue\u001b[39m\u001b[38;5;124m\"\u001b[39m: value})[\u001b[38;5;124m\"\u001b[39m\u001b[38;5;124mvalue\u001b[39m\u001b[38;5;124m\"\u001b[39m]\n",
      "File \u001b[0;32m/opt/anaconda3/lib/python3.11/site-packages/selenium/webdriver/remote/webdriver.py:354\u001b[0m, in \u001b[0;36mWebDriver.execute\u001b[0;34m(self, driver_command, params)\u001b[0m\n\u001b[1;32m    352\u001b[0m response \u001b[38;5;241m=\u001b[39m \u001b[38;5;28mself\u001b[39m\u001b[38;5;241m.\u001b[39mcommand_executor\u001b[38;5;241m.\u001b[39mexecute(driver_command, params)\n\u001b[1;32m    353\u001b[0m \u001b[38;5;28;01mif\u001b[39;00m response:\n\u001b[0;32m--> 354\u001b[0m     \u001b[38;5;28mself\u001b[39m\u001b[38;5;241m.\u001b[39merror_handler\u001b[38;5;241m.\u001b[39mcheck_response(response)\n\u001b[1;32m    355\u001b[0m     response[\u001b[38;5;124m\"\u001b[39m\u001b[38;5;124mvalue\u001b[39m\u001b[38;5;124m\"\u001b[39m] \u001b[38;5;241m=\u001b[39m \u001b[38;5;28mself\u001b[39m\u001b[38;5;241m.\u001b[39m_unwrap_value(response\u001b[38;5;241m.\u001b[39mget(\u001b[38;5;124m\"\u001b[39m\u001b[38;5;124mvalue\u001b[39m\u001b[38;5;124m\"\u001b[39m, \u001b[38;5;28;01mNone\u001b[39;00m))\n\u001b[1;32m    356\u001b[0m     \u001b[38;5;28;01mreturn\u001b[39;00m response\n",
      "File \u001b[0;32m/opt/anaconda3/lib/python3.11/site-packages/selenium/webdriver/remote/errorhandler.py:229\u001b[0m, in \u001b[0;36mErrorHandler.check_response\u001b[0;34m(self, response)\u001b[0m\n\u001b[1;32m    227\u001b[0m         alert_text \u001b[38;5;241m=\u001b[39m value[\u001b[38;5;124m\"\u001b[39m\u001b[38;5;124malert\u001b[39m\u001b[38;5;124m\"\u001b[39m]\u001b[38;5;241m.\u001b[39mget(\u001b[38;5;124m\"\u001b[39m\u001b[38;5;124mtext\u001b[39m\u001b[38;5;124m\"\u001b[39m)\n\u001b[1;32m    228\u001b[0m     \u001b[38;5;28;01mraise\u001b[39;00m exception_class(message, screen, stacktrace, alert_text)  \u001b[38;5;66;03m# type: ignore[call-arg]  # mypy is not smart enough here\u001b[39;00m\n\u001b[0;32m--> 229\u001b[0m \u001b[38;5;28;01mraise\u001b[39;00m exception_class(message, screen, stacktrace)\n",
      "\u001b[0;31mNoSuchElementException\u001b[0m: Message: no such element: Unable to locate element: {\"method\":\"css selector\",\"selector\":\"App > div.cma-components.container.d-grid.svelte-f3gp65 > cma-component:nth-child(1) > div > area-2 > h1 > span.titleProducto.mt-2\"}\n  (Session info: chrome=130.0.6723.71); For documentation on this error, please visit: https://www.selenium.dev/documentation/webdriver/troubleshooting/errors#no-such-element-exception\nStacktrace:\n0   chromedriver                        0x0000000104cef648 cxxbridge1$str$ptr + 3645404\n1   chromedriver                        0x0000000104ce7ea8 cxxbridge1$str$ptr + 3614780\n2   chromedriver                        0x0000000104754104 cxxbridge1$string$len + 88416\n3   chromedriver                        0x0000000104796364 cxxbridge1$string$len + 359360\n4   chromedriver                        0x00000001047cfbd0 cxxbridge1$string$len + 594988\n5   chromedriver                        0x000000010478af54 cxxbridge1$string$len + 313264\n6   chromedriver                        0x000000010478bba4 cxxbridge1$string$len + 316416\n7   chromedriver                        0x0000000104cba1e8 cxxbridge1$str$ptr + 3427196\n8   chromedriver                        0x0000000104cbd52c cxxbridge1$str$ptr + 3440320\n9   chromedriver                        0x0000000104ca160c cxxbridge1$str$ptr + 3325856\n10  chromedriver                        0x0000000104cbddf0 cxxbridge1$str$ptr + 3442564\n11  chromedriver                        0x0000000104c92890 cxxbridge1$str$ptr + 3265060\n12  chromedriver                        0x0000000104cd8898 cxxbridge1$str$ptr + 3551788\n13  chromedriver                        0x0000000104cd8a14 cxxbridge1$str$ptr + 3552168\n14  chromedriver                        0x0000000104ce7b40 cxxbridge1$str$ptr + 3613908\n15  libsystem_pthread.dylib             0x0000000183cdb2e4 _pthread_start + 136\n16  libsystem_pthread.dylib             0x0000000183cd60fc thread_start + 8\n"
     ]
    }
   ],
   "source": [
    "# Inicializa el navegador Chrome\n",
    "driver = webdriver.Chrome()\n",
    "\n",
    "driver.get(\"https://www.casadellibro.com/\")\n",
    "\n",
    "driver.maximize_window()\n",
    "\n",
    "sleep(2)\n",
    "\n",
    "driver.find_element(\"css selector\", \"#onetrust-accept-btn-handler\").click()\n",
    "\n",
    "sleep(2)\n",
    "driver.find_element(\"css selector\",\"#App > div.cabecera.svelte-1iqjtwo > div.d-grid.pt-2.svelte-1iqjtwo > div.menu.hidden-xs.hidden-sm.hidden-md.mb-n1.svelte-1qiif35 > div > div:nth-child(2) > a\" ).click()\n",
    "\n",
    "sleep(2)\n",
    "\n",
    "dicc_libros = {\"titulo libro\":[], \"autor\": [], \"precio\": [], \"editorial\": [], \"idioma\": [], \"numero paginas\": []}\n",
    "\n",
    "\n",
    "\n",
    "for i in range(1,6):\n",
    "\n",
    "    print(f\"hago click en producto {i}\")\n",
    "\n",
    "    driver.find_element(\"css selector\", f\"#App > div.cma-components.container.d-grid.svelte-f3gp65 > cma-component:nth-child(2) > div > div > div.roller.svelte-uz7p48 > div:nth-child({i}) > a > div > cdl-img > img\").click()\n",
    "\n",
    "    nombre = driver.find_element(\"css selector\",\"App > div.cma-components.container.d-grid.svelte-f3gp65 > cma-component:nth-child(1) > div > area-2 > h1 > span.titleProducto.mt-2\").text\n",
    "\n",
    "\n",
    "    dicc_libros[\"titulo libro\"].append(nombre)\n",
    "\n",
    "\n",
    "    sleep(2)\n",
    "    driver.back()\n"
   ]
  },
  {
   "cell_type": "markdown",
   "metadata": {},
   "source": []
  },
  {
   "cell_type": "code",
   "execution_count": null,
   "metadata": {},
   "outputs": [],
   "source": []
  }
 ],
 "metadata": {
  "kernelspec": {
   "display_name": "base",
   "language": "python",
   "name": "python3"
  },
  "language_info": {
   "codemirror_mode": {
    "name": "ipython",
    "version": 3
   },
   "file_extension": ".py",
   "mimetype": "text/x-python",
   "name": "python",
   "nbconvert_exporter": "python",
   "pygments_lexer": "ipython3",
   "version": "3.11.7"
  }
 },
 "nbformat": 4,
 "nbformat_minor": 2
}
